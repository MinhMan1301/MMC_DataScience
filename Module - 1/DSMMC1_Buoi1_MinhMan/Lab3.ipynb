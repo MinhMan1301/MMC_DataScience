{
  "nbformat": 4,
  "nbformat_minor": 0,
  "metadata": {
    "kernelspec": {
      "display_name": "Python 3",
      "language": "python",
      "name": "python3"
    },
    "language_info": {
      "codemirror_mode": {
        "name": "ipython",
        "version": 3
      },
      "file_extension": ".py",
      "mimetype": "text/x-python",
      "name": "python",
      "nbconvert_exporter": "python",
      "pygments_lexer": "ipython3",
      "version": "3.7.6"
    },
    "colab": {
      "provenance": []
    }
  },
  "cells": [
    {
      "cell_type": "markdown",
      "metadata": {
        "button": false,
        "new_sheet": false,
        "run_control": {
          "read_only": false
        },
        "id": "2qiVj8o4QgL8"
      },
      "source": [
        "\n",
        "\n",
        "#Lab 3 Từ Yêu cầu đến Thu thập dữ liệu\n",
        "\n",
        "Thời lượng: 120 phút\n",
        "\n",
        "## Mục tiêu\n",
        "\n",
        "Sau khi hoàn thành lab này, bạn sẽ có thể:\n",
        "\n",
        "-   Hiểu về yêu cầu dữ liệu\n",
        "-   Khám phá các bước của thu thập dữ liệu\n"
      ]
    },
    {
      "cell_type": "markdown",
      "metadata": {
        "button": false,
        "new_sheet": false,
        "run_control": {
          "read_only": false
        },
        "id": "By_SOv9_QgML"
      },
      "source": [
        "## Mục lục\n",
        "\n",
        "<div class=\"alert alert-block alert-info\" style=\"margin-top: 20px\">\n",
        "    \n",
        "1. [Yêu cầu Dữ liệu](#0)<br>\n",
        "2. [Thu thập Dữ liệu](#2)<br>\n",
        "</div>\n",
        "<hr>\n"
      ]
    },
    {
      "cell_type": "markdown",
      "metadata": {
        "button": false,
        "new_sheet": false,
        "run_control": {
          "read_only": false
        },
        "id": "OwfXA-Q8QgMM"
      },
      "source": [
        "# Yêu cầu Dữ liệu <a id=\"0\"></a>\n"
      ]
    },
    {
      "cell_type": "markdown",
      "metadata": {
        "button": false,
        "new_sheet": false,
        "run_control": {
          "read_only": false
        },
        "id": "yNXH4qQzQgMO"
      },
      "source": [
        "<img src=\"https://s3-api.us-geo.objectstorage.softlayer.net/cf-courses-data/CognitiveClass/DS0103EN/labs/images/lab2_fig1_flowchart_data_requirements.png\" width=500>\n"
      ]
    },
    {
      "cell_type": "markdown",
      "metadata": {
        "button": false,
        "new_sheet": false,
        "run_control": {
          "read_only": false
        },
        "id": "TnbAa3d7QgMO"
      },
      "source": [
        "Trong các video bài giảng, chúng ta đã biết rằng phương pháp tiếp cận phân tích đã chọn sẽ xác định các yêu cầu về dữ liệu. Cụ thể, các phương pháp phân tích được sử dụng sẽ yêu cầu nội dung dữ liệu, kiểu định dạng và cách biểu diễn dữ liệu nhất định, được định hướng bởi kiến thức nền tảng về nghiệp vụ, lĩnh vực liên quan (domain knowledge).\n"
      ]
    },
    {
      "cell_type": "markdown",
      "metadata": {
        "button": false,
        "new_sheet": false,
        "run_control": {
          "read_only": false
        },
        "id": "p-uu3a4cQgMP"
      },
      "source": [
        "Trong lab **Từ vấn đề đến phương pháp tiếp cận**, chúng ta đã xác định rằng việc tự động hóa quy trình xác định nguồn gốc ẩm thực của một công thức hoặc món ăn nhất định có thể thực hiện được bằng cách sử dụng các thành phần nguyên liệu của công thức hoặc món ăn đó. Để xây dựng một mô hình, chúng ta cần nguồn dữ liệu phong phú về các nền ẩm thực và công thức nấu ăn khác nhau.\n"
      ]
    },
    {
      "cell_type": "markdown",
      "metadata": {
        "button": false,
        "new_sheet": false,
        "run_control": {
          "read_only": false
        },
        "id": "gZUSl0OcQgMQ"
      },
      "source": [
        "Việc xác định dữ liệu cần thiết đáp ứng giai đoạn yêu cầu dữ liệu của phương pháp luận khoa học dữ liệu.\n",
        "\n",
        "* * *\n"
      ]
    },
    {
      "cell_type": "markdown",
      "metadata": {
        "button": false,
        "new_sheet": false,
        "run_control": {
          "read_only": false
        },
        "id": "rB3-XsAtQgMQ"
      },
      "source": [
        "# Thu thập Dữ liệu <a id=\"2\"></a>\n"
      ]
    },
    {
      "cell_type": "markdown",
      "metadata": {
        "button": false,
        "new_sheet": false,
        "run_control": {
          "read_only": false
        },
        "id": "8NjjWU-rQgMR"
      },
      "source": [
        "<img src=\"https://s3-api.us-geo.objectstorage.softlayer.net/cf-courses-data/CognitiveClass/DS0103EN/labs/images/lab2_fig2_flowchart_data_collection.png\" width=500>\n"
      ]
    },
    {
      "cell_type": "markdown",
      "metadata": {
        "button": false,
        "new_sheet": false,
        "run_control": {
          "read_only": false
        },
        "id": "YLU6iqnOQgMR"
      },
      "source": [
        "Trong giai đoạn thu thập dữ liệu ban đầu, các nhà khoa học dữ liệu xác định và thu thập các nguồn dữ liệu sẵn có. Chúng có thể ở dạng dữ liệu có cấu trúc, phi cấu trúc và thậm chí là bán cấu trúc có liên quan đến nghiệp vụ, lĩnh vực của vấn đề/bài toán cần giải quyết (problem domain).\n"
      ]
    },
    {
      "cell_type": "markdown",
      "metadata": {
        "button": false,
        "new_sheet": false,
        "run_control": {
          "read_only": false
        },
        "id": "zmXfr6bPQgMS"
      },
      "source": [
        "#### Web tổng hợp các công thức nấu ăn trực tuyến\n",
        "\n",
        "Một nhà nghiên cứu tên Yong-Yeol Ahn đã tìm kiếm hàng chục nghìn công thức nấu ăn (món ăn và nguyên liệu) từ ba trang web khác nhau, đó là:\n"
      ]
    },
    {
      "cell_type": "markdown",
      "metadata": {
        "button": false,
        "new_sheet": false,
        "run_control": {
          "read_only": false
        },
        "id": "eMQHz5CZQgMS"
      },
      "source": [
        "<img src=\"https://s3-api.us-geo.objectstorage.softlayer.net/cf-courses-data/CognitiveClass/DS0103EN/labs/images/lab2_fig3_allrecipes.png\" width=500>\n",
        "\n",
        "[www.allrecipes.com](http://www.allrecipes.com?cm_mmc=Email_Newsletter-_-Developer_Ed%2BTech-_-WW_WW-_-SkillsNetwork-Courses-IBMDeveloperSkillsNetwork-DS0103EN-SkillsNetwork-20083987&cm_mmca1=000026UJ&cm_mmca2=10006555&cm_mmca3=M12345678&cvosrc=email.Newsletter.M12345678&cvo_campaign=000026UJ)\n",
        "\n",
        "<img src=\"https://s3-api.us-geo.objectstorage.softlayer.net/cf-courses-data/CognitiveClass/DS0103EN/labs/images/lab2_fig4_epicurious.png\" width=500>\n",
        "\n",
        "[www.epicurious.com](http://www.epicurious.com?cm_mmc=Email_Newsletter-_-Developer_Ed%2BTech-_-WW_WW-_-SkillsNetwork-Courses-IBMDeveloperSkillsNetwork-DS0103EN-SkillsNetwork-20083987&cm_mmca1=000026UJ&cm_mmca2=10006555&cm_mmca3=M12345678&cvosrc=email.Newsletter.M12345678&cvo_campaign=000026UJ)\n",
        "\n",
        "<img src=\"https://s3-api.us-geo.objectstorage.softlayer.net/cf-courses-data/CognitiveClass/DS0103EN/labs/images/lab2_fig5_menupan.png\" width=500>\n",
        "\n",
        "[www.menupan.com](http://www.menupan.com?cm_mmc=Email_Newsletter-_-Developer_Ed%2BTech-_-WW_WW-_-SkillsNetwork-Courses-IBMDeveloperSkillsNetwork-DS0103EN-SkillsNetwork-20083987&cm_mmca1=000026UJ&cm_mmca2=10006555&cm_mmca3=M12345678&cvosrc=email.Newsletter.M12345678&cvo_campaign=000026UJ)\n"
      ]
    },
    {
      "cell_type": "markdown",
      "metadata": {
        "button": false,
        "new_sheet": false,
        "run_control": {
          "read_only": false
        },
        "id": "TD11WRW7QgMU"
      },
      "source": [
        "Để biết thêm thông tin về Yong-Yeol Ahn và nghiên cứu của anh ấy, bạn có thể đọc bài báo của anh ấy trên [Flavor Network and the Principles of Food Pairing](http://yongyeol.com/papers/ahn-flavornet-2011.pdf?cm_mmc=Email_Newsletter-_-Developer_Ed%2BTech-_-WW_WW-_-SkillsNetwork-Courses-IBMDeveloperSkillsNetwork-DS0103EN-SkillsNetwork-20083987&cm_mmca1=000026UJ&cm_mmca2=10006555&cm_mmca3=M12345678&cvosrc=email.Newsletter.M12345678&cvo_campaign=000026UJ&cm_mmc=Email_Newsletter-_-Developer_Ed%2BTech-_-WW_WW-_-SkillsNetwork-Courses-IBMDeveloperSkillsNetwork-DS0103EN-SkillsNetwork-20083987&cm_mmca1=000026UJ&cm_mmca2=10006555&cm_mmca3=M12345678&cvosrc=email.Newsletter.M12345678&cvo_campaign=000026UJ).\n"
      ]
    },
    {
      "cell_type": "markdown",
      "metadata": {
        "button": false,
        "new_sheet": false,
        "run_control": {
          "read_only": false
        },
        "id": "7smTCLNgQgMW"
      },
      "source": [
        "May mắn là chúng ta sẽ không cần phải thực hiện bất kỳ việc thu thập dữ liệu nào vì dữ liệu mà chúng ta cần để đáp ứng mục tiêu được xác định trong giai đoạn hiểu về nghiệp vụ (business understanding) đã sẵn sàng.\n"
      ]
    },
    {
      "cell_type": "markdown",
      "metadata": {
        "button": false,
        "new_sheet": false,
        "run_control": {
          "read_only": false
        },
        "id": "O6NpVwZeQgMX"
      },
      "source": [
        "Chúng ta đã có được dữ liệu và đặt nó ở máy chủ IBM. Hãy tải dữ liệu xuống và xem.\n"
      ]
    },
    {
      "cell_type": "markdown",
      "metadata": {
        "button": false,
        "new_sheet": false,
        "run_control": {
          "read_only": false
        },
        "id": "lWQGWGyfQgMY"
      },
      "source": [
        "<strong> Lưu ý quan trọng: </strong> Xin lưu ý rằng bạn không cần biết cách lập trình trong python. Đoạn code sau đây nhằm minh họa giai đoạn thu thập dữ liệu, vì vậy sẽ không có vấn đề gì nếu bạn không hiểu từng dòng code riêng lẻ. Chứng chỉ này sẽ có một khóa học đầy đủ về lập trình bằng python, <a href=\"http://cocl.us/PY0101EN_DS0103EN_LAB2_PYTHON_edX\"> Python cho Khoa học Dữ liệu </a>, khóa học này sẽ dạy bạn cách lập trình bằng Python.\n"
      ]
    },
    {
      "cell_type": "markdown",
      "metadata": {
        "button": false,
        "new_sheet": false,
        "run_control": {
          "read_only": false
        },
        "id": "Euqi0FzSQgMa"
      },
      "source": [
        "### Sử dụng notebook này:\n",
        "\n",
        "Để chạy bất kỳ cell code nào sau đây, bạn có thể nhập **Shift + Enter** để thực thi code trong một cell."
      ]
    },
    {
      "cell_type": "markdown",
      "metadata": {
        "button": false,
        "new_sheet": false,
        "run_control": {
          "read_only": false
        },
        "id": "du_ugvD_QgMb"
      },
      "source": [
        "Cài đặt phiên bản mới của Python\n"
      ]
    },
    {
      "cell_type": "code",
      "metadata": {
        "button": false,
        "collapsed": true,
        "jupyter": {
          "outputs_hidden": true
        },
        "new_sheet": false,
        "run_control": {
          "read_only": false
        },
        "id": "u8mTigjIQgMb",
        "outputId": "f10aab01-e485-46b1-e6a2-1cc28756bc5a",
        "colab": {
          "base_uri": "https://localhost:8080/"
        }
      },
      "source": [
        "# check Python version\n",
        "!python -V"
      ],
      "execution_count": 1,
      "outputs": [
        {
          "output_type": "stream",
          "name": "stdout",
          "text": [
            "Python 3.10.12\n"
          ]
        }
      ]
    },
    {
      "cell_type": "markdown",
      "metadata": {
        "button": false,
        "new_sheet": false,
        "run_control": {
          "read_only": false
        },
        "id": "GIr4BwYKQgMd"
      },
      "source": [
        "Đọc dữ liệu từ máy chủ IBM vào khung dữ liệu _pandas_.\n"
      ]
    },
    {
      "cell_type": "code",
      "metadata": {
        "button": false,
        "collapsed": true,
        "jupyter": {
          "outputs_hidden": true
        },
        "new_sheet": false,
        "run_control": {
          "read_only": false
        },
        "id": "CiTYIOqtQgMd",
        "outputId": "ac317ef1-1802-413a-b663-8390042aa3e4",
        "colab": {
          "base_uri": "https://localhost:8080/"
        }
      },
      "source": [
        "import pandas as pd # download library to read data into dataframe\n",
        "pd.set_option('display.max_columns', None)\n",
        "\n",
        "recipes  = pd.read_csv(\"https://s3-api.us-geo.objectstorage.softlayer.net/cf-courses-data/CognitiveClass/DS0103EN/labs/data/recipes.csv\")\n",
        "print(\"Data read into dataframe!\") # takes about 30 seconds"
      ],
      "execution_count": 13,
      "outputs": [
        {
          "output_type": "stream",
          "name": "stdout",
          "text": [
            "Data read into dataframe!\n"
          ]
        }
      ]
    },
    {
      "cell_type": "markdown",
      "source": [
        "Nhấp đúp vào __đây__ để xem lời giải.\n",
        "<!--\n",
        "pd.read_csv\n",
        "-->"
      ],
      "metadata": {
        "id": "qDMfPxT4lnUj"
      }
    },
    {
      "cell_type": "markdown",
      "metadata": {
        "button": false,
        "new_sheet": false,
        "run_control": {
          "read_only": false
        },
        "id": "1BY3ccefQgMe"
      },
      "source": [
        "Hiển thị một số hàng đầu tiên.\n"
      ]
    },
    {
      "cell_type": "code",
      "metadata": {
        "button": false,
        "collapsed": true,
        "jupyter": {
          "outputs_hidden": true
        },
        "new_sheet": false,
        "run_control": {
          "read_only": false
        },
        "id": "XoI-6TWdQgMe"
      },
      "source": [
        "# Điền code vào đây\n"
      ],
      "execution_count": null,
      "outputs": []
    },
    {
      "cell_type": "markdown",
      "source": [
        "Nhấp đúp vào __đây__ để xem lời giải.\n",
        "<!--\n",
        "recipes.head()\n",
        "-->"
      ],
      "metadata": {
        "id": "2t1881eWmG9u"
      }
    },
    {
      "cell_type": "markdown",
      "metadata": {
        "button": false,
        "new_sheet": false,
        "run_control": {
          "read_only": false
        },
        "id": "qeP88GKmQgMe"
      },
      "source": [
        "Nhận chiều của khung dữ liệu.\n"
      ]
    },
    {
      "cell_type": "code",
      "metadata": {
        "button": false,
        "collapsed": true,
        "jupyter": {
          "outputs_hidden": true
        },
        "new_sheet": false,
        "run_control": {
          "read_only": false
        },
        "id": "C4Zy3PmsQgMf",
        "outputId": "9564dc6c-f9a8-4380-a95f-374b50fdaba2",
        "colab": {
          "base_uri": "https://localhost:8080/"
        }
      },
      "source": [
        "print(recipes.shape)"
      ],
      "execution_count": 15,
      "outputs": [
        {
          "output_type": "stream",
          "name": "stdout",
          "text": [
            "(57691, 384)\n"
          ]
        }
      ]
    },
    {
      "cell_type": "markdown",
      "source": [
        "Nhấp đúp vào __đây__ để xem lời giải.\n",
        "<!--\n",
        "recipes.shape\n",
        "-->"
      ],
      "metadata": {
        "id": "2tow7HnFmR81"
      }
    },
    {
      "cell_type": "markdown",
      "metadata": {
        "button": false,
        "new_sheet": false,
        "run_control": {
          "read_only": false
        },
        "id": "O1emAa9KQgMf"
      },
      "source": [
        "Vậy, tập dữ liệu của chúng ta gồm 57.691 công thức nấu ăn. Mỗi hàng đại diện cho một công thức và đối với mỗi công thức, món ăn tương ứng được ghi lại cũng như xem 384 thành phần nguyên liệu có tồn tại trong công thức hay không, bắt đầu bằng hạnh nhân (almond) và kết thúc bằng bí ngòi (zucchini).\n",
        "\n",
        "* * *\n"
      ]
    },
    {
      "cell_type": "markdown",
      "metadata": {
        "button": false,
        "new_sheet": false,
        "run_control": {
          "read_only": false
        },
        "id": "J85SNN8eQgMg"
      },
      "source": [
        "Bây giờ giai đoạn thu thập dữ liệu đã hoàn tất, các nhà khoa học dữ liệu thường sử dụng thống kê mô tả và kỹ thuật trực quan hóa để hiểu rõ hơn về dữ liệu và làm quen với nó. Về cơ bản, các nhà khoa học dữ liệu khám phá dữ liệu để:\n",
        "\n",
        "- hiểu nội dung của nó,\n",
        "- đánh giá chất lượng của nó,\n",
        "- khám phá bất kỳ thông tin chi tiết sơ bộ thú vị nào, và\n",
        "- xác định xem dữ liệu bổ sung có cần thiết để lấp bất kỳ khoảng trống nào trong dữ liệu hay không.\n"
      ]
    },
    {
      "cell_type": "markdown",
      "metadata": {
        "button": false,
        "new_sheet": false,
        "run_control": {
          "read_only": false
        },
        "id": "DnqMi4wkQgMg"
      },
      "source": [
        "### Nguồn: IBM\n"
      ]
    },
    {
      "cell_type": "code",
      "source": [],
      "metadata": {
        "id": "SyHdfVzJrj3_"
      },
      "execution_count": null,
      "outputs": []
    }
  ]
}