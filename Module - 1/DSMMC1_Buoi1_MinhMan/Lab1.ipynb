{
 "cells": [
  {
   "cell_type": "code",
   "execution_count": 8,
   "id": "c7855fa2-9a2e-46b3-8030-2344bc65771b",
   "metadata": {},
   "outputs": [
    {
     "data": {
      "text/plain": [
       "2"
      ]
     },
     "execution_count": 8,
     "metadata": {},
     "output_type": "execute_result"
    }
   ],
   "source": [
    "# BT1\n",
    "1 + 1"
   ]
  },
  {
   "cell_type": "code",
   "execution_count": 9,
   "id": "7cc5f23d-22ac-4a14-b664-ea99f00274b8",
   "metadata": {},
   "outputs": [],
   "source": [
    "# BT2 (add cell)"
   ]
  },
  {
   "cell_type": "markdown",
   "id": "b32bbce9-98e3-4f30-a819-9e8dd3811bea",
   "metadata": {},
   "source": [
    "# BT3"
   ]
  },
  {
   "cell_type": "code",
   "execution_count": null,
   "id": "94c07962-881c-4431-9a37-677e1aa70c65",
   "metadata": {},
   "outputs": [],
   "source": [
    "# BT4 (Đã đổi tên thành lab1)"
   ]
  },
  {
   "cell_type": "code",
   "execution_count": null,
   "id": "eb933852-c421-4837-b414-24da062dc1e2",
   "metadata": {},
   "outputs": [],
   "source": [
    "# BT5(Đã lưu và up lên github)"
   ]
  }
 ],
 "metadata": {
  "kernelspec": {
   "display_name": "Python 3 (ipykernel)",
   "language": "python",
   "name": "python3"
  },
  "language_info": {
   "codemirror_mode": {
    "name": "ipython",
    "version": 3
   },
   "file_extension": ".py",
   "mimetype": "text/x-python",
   "name": "python",
   "nbconvert_exporter": "python",
   "pygments_lexer": "ipython3",
   "version": "3.11.7"
  }
 },
 "nbformat": 4,
 "nbformat_minor": 5
}
