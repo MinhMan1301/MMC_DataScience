{
 "cells": [
  {
   "cell_type": "code",
   "execution_count": 25,
   "id": "954e1071-057b-44f4-b2df-893f60eaacec",
   "metadata": {},
   "outputs": [
    {
     "name": "stdin",
     "output_type": "stream",
     "text": [
      " LVIII\n"
     ]
    },
    {
     "name": "stdout",
     "output_type": "stream",
     "text": [
      "58\n"
     ]
    }
   ],
   "source": [
    "# Bài 1: Chữ số La Mã\n",
    "result = {\"I\": 1, \"V\": 5, \"X\": 10, \"L\": 50, \"C\": 100, \"D\": 500, \"M\": 1000}\n",
    "a = input()\n",
    "\n",
    "all_result = []\n",
    "\n",
    "for i in a:\n",
    "    all_result.append(result[i])\n",
    "final_result = 0\n",
    "prev_value = 0\n",
    "for value in all_result:\n",
    "    if value > prev_value:\n",
    "        final_result += value - (2 * prev_value)\n",
    "    else:\n",
    "        final_result += value\n",
    "    prev_value = value\n",
    "print(final_result)"
   ]
  },
  {
   "cell_type": "code",
   "execution_count": 30,
   "id": "18767261-1190-4dd8-ac28-1bb657709091",
   "metadata": {},
   "outputs": [
    {
     "name": "stdin",
     "output_type": "stream",
     "text": [
      " 56,482,482,567,765,567,765,987,678,987,678\n"
     ]
    },
    {
     "name": "stdout",
     "output_type": "stream",
     "text": [
      "56\n"
     ]
    }
   ],
   "source": [
    "# Bài 2: Tìm số FA\n",
    "input_str = input()\n",
    "input_list = input_str.split(\",\")\n",
    "for x in input_list:\n",
    "    a = input_list.count(x)\n",
    "    if a == 1:\n",
    "        print(x)\n",
    "        break\n",
    "        \n"
   ]
  },
  {
   "cell_type": "code",
   "execution_count": 33,
   "id": "edda0fc4-37ed-4b2e-9bde-e77e42b9cfa5",
   "metadata": {},
   "outputs": [
    {
     "name": "stdin",
     "output_type": "stream",
     "text": [
      " flower\n"
     ]
    },
    {
     "name": "stdout",
     "output_type": "stream",
     "text": [
      "56482482567765567765987678987678\n"
     ]
    }
   ],
   "source": [
    "# Bài 3: Substring dài nhất\n",
    "input_str = input()\n",
    "result = \"\"\n",
    "for x in input_list:\n",
    "    if x != \"u\" or x != \"e\" or x != \"o\" or x != \"a\" or x != \"i\":\n",
    "        result += str(x)\n",
    "print(result)\n",
    "\n"
   ]
  },
  {
   "cell_type": "code",
   "execution_count": null,
   "id": "0fa66f70-49e3-427e-b2ea-24e968460464",
   "metadata": {},
   "outputs": [],
   "source": []
  }
 ],
 "metadata": {
  "kernelspec": {
   "display_name": "Python 3 (ipykernel)",
   "language": "python",
   "name": "python3"
  },
  "language_info": {
   "codemirror_mode": {
    "name": "ipython",
    "version": 3
   },
   "file_extension": ".py",
   "mimetype": "text/x-python",
   "name": "python",
   "nbconvert_exporter": "python",
   "pygments_lexer": "ipython3",
   "version": "3.11.7"
  }
 },
 "nbformat": 4,
 "nbformat_minor": 5
}
