{
 "cells": [
  {
   "cell_type": "code",
   "execution_count": 20,
   "id": "03b1a60c-116c-4151-a45c-3f7a6258edcb",
   "metadata": {},
   "outputs": [
    {
     "ename": "SyntaxError",
     "evalue": "incomplete input (3622107520.py, line 15)",
     "output_type": "error",
     "traceback": [
      "\u001b[1;36m  Cell \u001b[1;32mIn[20], line 15\u001b[1;36m\u001b[0m\n\u001b[1;33m    print(\"\"\"\")\u001b[0m\n\u001b[1;37m          ^\u001b[0m\n\u001b[1;31mSyntaxError\u001b[0m\u001b[1;31m:\u001b[0m incomplete input\n"
     ]
    }
   ],
   "source": [
    "# Nhập chuỗi từ người dùng\n",
    "a, b, c = input().split()\n",
    "a = list(a)\n",
    "b = list(b)\n",
    "c = list(c)\n",
    "result = \"\"\n",
    "min_length = min(len(a),len(b),len(c))\n",
    "for i in range(min_length):\n",
    "    if a[i] == b[i]== c[i]:\n",
    "        result += a[i]\n",
    "    else:\n",
    "        print(result)\n",
    "        break\n",
    "if result == \"\":\n",
    "    print(\"\"\"\")"
   ]
  },
  {
   "cell_type": "code",
   "execution_count": null,
   "id": "ffeea063-b85a-4bae-a188-37f91199291b",
   "metadata": {},
   "outputs": [],
   "source": []
  }
 ],
 "metadata": {
  "kernelspec": {
   "display_name": "Python 3 (ipykernel)",
   "language": "python",
   "name": "python3"
  },
  "language_info": {
   "codemirror_mode": {
    "name": "ipython",
    "version": 3
   },
   "file_extension": ".py",
   "mimetype": "text/x-python",
   "name": "python",
   "nbconvert_exporter": "python",
   "pygments_lexer": "ipython3",
   "version": "3.11.7"
  }
 },
 "nbformat": 4,
 "nbformat_minor": 5
}
