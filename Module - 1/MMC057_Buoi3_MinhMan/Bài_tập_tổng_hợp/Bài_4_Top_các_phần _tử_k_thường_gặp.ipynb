{
 "cells": [
  {
   "cell_type": "code",
   "execution_count": null,
   "id": "2851a4e2-b049-463e-b64c-4e46c3424a8d",
   "metadata": {},
   "outputs": [],
   "source": [
    "string = list(input().split(\",\"))\n",
    "result = []\n",
    "for i in string:\n",
    "    a= string.count(i)\n",
    "    if a >= 2:\n",
    "       result.append(i)\n",
    "if len(result) == 1:\n",
    "    print(result[0])\n",
    "elif len(set(result)) > 1:\n",
    "    print(set(result))\n",
    "else:\n",
    "    print(\"\\\"\\\"\")\n",
    "    "
   ]
  },
  {
   "cell_type": "code",
   "execution_count": null,
   "id": "cf7fa043-7f5a-4d92-a185-6837aff43f91",
   "metadata": {},
   "outputs": [],
   "source": []
  }
 ],
 "metadata": {
  "kernelspec": {
   "display_name": "Python 3 (ipykernel)",
   "language": "python",
   "name": "python3"
  },
  "language_info": {
   "codemirror_mode": {
    "name": "ipython",
    "version": 3
   },
   "file_extension": ".py",
   "mimetype": "text/x-python",
   "name": "python",
   "nbconvert_exporter": "python",
   "pygments_lexer": "ipython3",
   "version": "3.11.7"
  }
 },
 "nbformat": 4,
 "nbformat_minor": 5
}
